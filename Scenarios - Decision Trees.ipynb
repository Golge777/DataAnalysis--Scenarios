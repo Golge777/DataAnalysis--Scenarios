{
    "cells": [
        {
            "metadata": {},
            "cell_type": "markdown",
            "source": "#### ------------------------------------------------------------------------------------------------------------------------------------------------------------------------------------------------------------------\n\n#### In this scenario, we're going to delve into a medical research in which we get to choose the best medicine for each patient with the aid of data.\n#### Our dataset consists of data from past 200 patients. The data includes information about demographic and health status of the patients. Namely,\n#### Age, Sex, Blood Pressure, Cholesterol Level, Na To K Equilibrium and the medicine prescribed \"Drug\".\n\n#### ------------------------------------------------------------------------------------------------------------------------------------------------------------------------------------------------------------------"
        },
        {
            "metadata": {
                "collapsed": true
            },
            "cell_type": "markdown",
            "source": "### First let's import the required libraries"
        },
        {
            "metadata": {},
            "cell_type": "code",
            "source": "import pandas as pd # To be able to handle the data with ease (by employing dataframe structure)\nimport numpy as np # To be able to treat the data as vectors\nfrom sklearn import preprocessing # To carry out data preprocessing before forming the model\nfrom sklearn.model_selection import train_test_split # For splitting data into train & test clusters\nfrom sklearn import metrics # For accuracy evaluation\nfrom sklearn.tree import DecisionTreeClassifier",
            "execution_count": 11,
            "outputs": []
        },
        {
            "metadata": {},
            "cell_type": "markdown",
            "source": "### Importing the data from the internet"
        },
        {
            "metadata": {},
            "cell_type": "markdown",
            "source": "#### In this example, our objective is to build a model in which we try to find out which drug might be the best choice for a future patient with the same illness."
        },
        {
            "metadata": {},
            "cell_type": "code",
            "source": "!wget -O drugList.csv https://s3-api.us-geo.objectstorage.softlayer.net/cf-courses-data/CognitiveClass/ML0101ENv3/labs/drug200.csv",
            "execution_count": 2,
            "outputs": [
                {
                    "output_type": "stream",
                    "text": "--2020-05-04 12:04:10--  https://s3-api.us-geo.objectstorage.softlayer.net/cf-courses-data/CognitiveClass/ML0101ENv3/labs/drug200.csv\nResolving s3-api.us-geo.objectstorage.softlayer.net (s3-api.us-geo.objectstorage.softlayer.net)... 67.228.254.196\nConnecting to s3-api.us-geo.objectstorage.softlayer.net (s3-api.us-geo.objectstorage.softlayer.net)|67.228.254.196|:443... connected.\nHTTP request sent, awaiting response... 200 OK\nLength: 6027 (5.9K) [text/csv]\nSaving to: \u2018drugList.csv\u2019\n\n100%[======================================>] 6,027       --.-K/s   in 0s      \n\n2020-05-04 12:04:11 (655 MB/s) - \u2018drugList.csv\u2019 saved [6027/6027]\n\n",
                    "name": "stdout"
                }
            ]
        },
        {
            "metadata": {},
            "cell_type": "code",
            "source": "df = pd.read_csv(\"drugList.csv\", delimiter=\",\")\ndf.head()",
            "execution_count": 3,
            "outputs": [
                {
                    "output_type": "execute_result",
                    "execution_count": 3,
                    "data": {
                        "text/plain": "   Age Sex      BP Cholesterol  Na_to_K   Drug\n0   23   F    HIGH        HIGH   25.355  drugY\n1   47   M     LOW        HIGH   13.093  drugC\n2   47   M     LOW        HIGH   10.114  drugC\n3   28   F  NORMAL        HIGH    7.798  drugX\n4   61   F     LOW        HIGH   18.043  drugY",
                        "text/html": "<div>\n<style scoped>\n    .dataframe tbody tr th:only-of-type {\n        vertical-align: middle;\n    }\n\n    .dataframe tbody tr th {\n        vertical-align: top;\n    }\n\n    .dataframe thead th {\n        text-align: right;\n    }\n</style>\n<table border=\"1\" class=\"dataframe\">\n  <thead>\n    <tr style=\"text-align: right;\">\n      <th></th>\n      <th>Age</th>\n      <th>Sex</th>\n      <th>BP</th>\n      <th>Cholesterol</th>\n      <th>Na_to_K</th>\n      <th>Drug</th>\n    </tr>\n  </thead>\n  <tbody>\n    <tr>\n      <th>0</th>\n      <td>23</td>\n      <td>F</td>\n      <td>HIGH</td>\n      <td>HIGH</td>\n      <td>25.355</td>\n      <td>drugY</td>\n    </tr>\n    <tr>\n      <th>1</th>\n      <td>47</td>\n      <td>M</td>\n      <td>LOW</td>\n      <td>HIGH</td>\n      <td>13.093</td>\n      <td>drugC</td>\n    </tr>\n    <tr>\n      <th>2</th>\n      <td>47</td>\n      <td>M</td>\n      <td>LOW</td>\n      <td>HIGH</td>\n      <td>10.114</td>\n      <td>drugC</td>\n    </tr>\n    <tr>\n      <th>3</th>\n      <td>28</td>\n      <td>F</td>\n      <td>NORMAL</td>\n      <td>HIGH</td>\n      <td>7.798</td>\n      <td>drugX</td>\n    </tr>\n    <tr>\n      <th>4</th>\n      <td>61</td>\n      <td>F</td>\n      <td>LOW</td>\n      <td>HIGH</td>\n      <td>18.043</td>\n      <td>drugY</td>\n    </tr>\n  </tbody>\n</table>\n</div>"
                    },
                    "metadata": {}
                }
            ]
        },
        {
            "metadata": {},
            "cell_type": "markdown",
            "source": "### Data Preprocessing"
        },
        {
            "metadata": {},
            "cell_type": "code",
            "source": "x = df[[\"Age\", \"Sex\", \"BP\", \"Cholesterol\", \"Na_to_K\"]].values\ny = df[\"Drug\"]",
            "execution_count": 4,
            "outputs": []
        },
        {
            "metadata": {},
            "cell_type": "markdown",
            "source": "#### As can be seen above, some columns contain non-numerical values. This is a problem since decision tree library in Python\n#### only works with numbers. So, we have to convert them into numerical values."
        },
        {
            "metadata": {},
            "cell_type": "code",
            "source": "# To do so, we use .get_dummies() function. It essentially converts categorical variables into dummies\nsex = preprocessing.LabelEncoder()\nsex.fit(['F','M'])\nx[:,1] = sex.transform(x[:,1])\n\nbp = preprocessing.LabelEncoder()\nbp.fit(['LOW','NORMAL', 'HIGH'])\nx[:,2] = bp.transform(x[:,2])\n\nchol = preprocessing.LabelEncoder()\nchol.fit(['NORMAL','HIGH'])\nx[:,3] = chol.transform(x[:,3])",
            "execution_count": 5,
            "outputs": []
        },
        {
            "metadata": {},
            "cell_type": "markdown",
            "source": "### Splitting our dataset into Train / Test "
        },
        {
            "metadata": {},
            "cell_type": "code",
            "source": "xTrain, xTest, yTrain, yTest = train_test_split(x, y, test_size=0.3, random_state=3)",
            "execution_count": 6,
            "outputs": []
        },
        {
            "metadata": {},
            "cell_type": "markdown",
            "source": "### Modeling"
        },
        {
            "metadata": {},
            "cell_type": "code",
            "source": "decTree = DecisionTreeClassifier(criterion=\"entropy\", max_depth = 4)\ndecTree.fit(xTrain, yTrain)",
            "execution_count": 7,
            "outputs": [
                {
                    "output_type": "execute_result",
                    "execution_count": 7,
                    "data": {
                        "text/plain": "DecisionTreeClassifier(class_weight=None, criterion='entropy', max_depth=4,\n            max_features=None, max_leaf_nodes=None,\n            min_impurity_decrease=0.0, min_impurity_split=None,\n            min_samples_leaf=1, min_samples_split=2,\n            min_weight_fraction_leaf=0.0, presort=False, random_state=None,\n            splitter='best')"
                    },
                    "metadata": {}
                }
            ]
        },
        {
            "metadata": {},
            "cell_type": "code",
            "source": "yHat = decTree.predict(xTest)\nprint(yHat [0:5])\nprint(yTest[0:5])",
            "execution_count": 18,
            "outputs": [
                {
                    "output_type": "stream",
                    "text": "['drugY' 'drugX' 'drugX' 'drugX' 'drugX']\n40     drugY\n51     drugX\n139    drugX\n197    drugX\n170    drugX\nName: Drug, dtype: object\n",
                    "name": "stdout"
                }
            ]
        },
        {
            "metadata": {},
            "cell_type": "markdown",
            "source": "### Evaluation"
        },
        {
            "metadata": {},
            "cell_type": "code",
            "source": "print(\"Accuracy of the Decision Tree model: \", metrics.accuracy_score(yTest, yHat))",
            "execution_count": 13,
            "outputs": [
                {
                    "output_type": "stream",
                    "text": "Accuracy of the Decision Tree model:  0.9833333333333333\n",
                    "name": "stdout"
                }
            ]
        }
    ],
    "metadata": {
        "kernelspec": {
            "name": "python3",
            "display_name": "Python 3.6",
            "language": "python"
        },
        "language_info": {
            "name": "python",
            "version": "3.6.9",
            "mimetype": "text/x-python",
            "codemirror_mode": {
                "name": "ipython",
                "version": 3
            },
            "pygments_lexer": "ipython3",
            "nbconvert_exporter": "python",
            "file_extension": ".py"
        }
    },
    "nbformat": 4,
    "nbformat_minor": 1
}