{
    "cells": [
        {
            "metadata": {},
            "cell_type": "markdown",
            "source": "#### ---------------------------------------------------------------------------------------------------------------------------------------------------------------------------------\n\n#### In this scenario, we're going to classify the customers of a Telecommunications company using the k-Nearest Neighbors approach.\n#### The dataset includes 1000 customers with various demographic info.\n#### Our aim is to decide the most convenient service for the new customers of the company.\n####   \n#### The service categories are given as follows:\n\n#### 1) Basic Service \n#### 2) Electronic Service (E-Service)\n#### 3) Plus Service\n#### 4) Full Service Package\n\n#### ---------------------------------------------------------------------------------------------------------------------------------------------------------------------------------"
        },
        {
            "metadata": {},
            "cell_type": "markdown",
            "source": "### First let's import the required libraries"
        },
        {
            "metadata": {},
            "cell_type": "code",
            "source": "import pandas as pd # To be able to handle data with ease (by employing dataframe structure)\nimport numpy as np # To be able to treat the data as vectors\n\nimport itertools\nimport matplotlib.pyplot as plt # To visualize the data and model\n# So that we can draw plots on top of another\n%matplotlib inline \nfrom matplotlib.ticker import NullFormatter\nimport matplotlib.ticker as ticker\n\nfrom sklearn import preprocessing # For normalizing the data\nfrom sklearn.model_selection import train_test_split # For splitting data into train & test clusters\nfrom sklearn import metrics # For accuracy evaluation\n\nfrom sklearn.neighbors import KNeighborsClassifier # To be able to user kNN algorithm on the dataset",
            "execution_count": 1,
            "outputs": []
        },
        {
            "metadata": {},
            "cell_type": "markdown",
            "source": "### Importing the data from the Internet"
        },
        {
            "metadata": {},
            "cell_type": "code",
            "source": "!wget -O TelCoCustList.csv https://s3-api.us-geo.objectstorage.softlayer.net/cf-courses-data/CognitiveClass/ML0101ENv3/labs/teleCust1000t.csv",
            "execution_count": 2,
            "outputs": [
                {
                    "output_type": "stream",
                    "text": "--2020-05-03 10:38:08--  https://s3-api.us-geo.objectstorage.softlayer.net/cf-courses-data/CognitiveClass/ML0101ENv3/labs/teleCust1000t.csv\nResolving s3-api.us-geo.objectstorage.softlayer.net (s3-api.us-geo.objectstorage.softlayer.net)... 67.228.254.196\nConnecting to s3-api.us-geo.objectstorage.softlayer.net (s3-api.us-geo.objectstorage.softlayer.net)|67.228.254.196|:443... connected.\nHTTP request sent, awaiting response... 200 OK\nLength: 37048 (36K) [text/csv]\nSaving to: \u2018TelCoCustList.csv\u2019\n\n100%[======================================>] 37,048      --.-K/s   in 0.09s   \n\n2020-05-03 10:38:09 (423 KB/s) - \u2018TelCoCustList.csv\u2019 saved [37048/37048]\n\n",
                    "name": "stdout"
                }
            ]
        },
        {
            "metadata": {},
            "cell_type": "code",
            "source": "df = pd.read_csv('TelCoCustList.csv')\ndf.head()",
            "execution_count": 3,
            "outputs": [
                {
                    "output_type": "execute_result",
                    "execution_count": 3,
                    "data": {
                        "text/plain": "   region  tenure  age  marital  address  income  ed  employ  retire  gender  \\\n0       2      13   44        1        9    64.0   4       5     0.0       0   \n1       3      11   33        1        7   136.0   5       5     0.0       0   \n2       3      68   52        1       24   116.0   1      29     0.0       1   \n3       2      33   33        0       12    33.0   2       0     0.0       1   \n4       2      23   30        1        9    30.0   1       2     0.0       0   \n\n   reside  custcat  \n0       2        1  \n1       6        4  \n2       2        3  \n3       1        1  \n4       4        3  ",
                        "text/html": "<div>\n<style scoped>\n    .dataframe tbody tr th:only-of-type {\n        vertical-align: middle;\n    }\n\n    .dataframe tbody tr th {\n        vertical-align: top;\n    }\n\n    .dataframe thead th {\n        text-align: right;\n    }\n</style>\n<table border=\"1\" class=\"dataframe\">\n  <thead>\n    <tr style=\"text-align: right;\">\n      <th></th>\n      <th>region</th>\n      <th>tenure</th>\n      <th>age</th>\n      <th>marital</th>\n      <th>address</th>\n      <th>income</th>\n      <th>ed</th>\n      <th>employ</th>\n      <th>retire</th>\n      <th>gender</th>\n      <th>reside</th>\n      <th>custcat</th>\n    </tr>\n  </thead>\n  <tbody>\n    <tr>\n      <th>0</th>\n      <td>2</td>\n      <td>13</td>\n      <td>44</td>\n      <td>1</td>\n      <td>9</td>\n      <td>64.0</td>\n      <td>4</td>\n      <td>5</td>\n      <td>0.0</td>\n      <td>0</td>\n      <td>2</td>\n      <td>1</td>\n    </tr>\n    <tr>\n      <th>1</th>\n      <td>3</td>\n      <td>11</td>\n      <td>33</td>\n      <td>1</td>\n      <td>7</td>\n      <td>136.0</td>\n      <td>5</td>\n      <td>5</td>\n      <td>0.0</td>\n      <td>0</td>\n      <td>6</td>\n      <td>4</td>\n    </tr>\n    <tr>\n      <th>2</th>\n      <td>3</td>\n      <td>68</td>\n      <td>52</td>\n      <td>1</td>\n      <td>24</td>\n      <td>116.0</td>\n      <td>1</td>\n      <td>29</td>\n      <td>0.0</td>\n      <td>1</td>\n      <td>2</td>\n      <td>3</td>\n    </tr>\n    <tr>\n      <th>3</th>\n      <td>2</td>\n      <td>33</td>\n      <td>33</td>\n      <td>0</td>\n      <td>12</td>\n      <td>33.0</td>\n      <td>2</td>\n      <td>0</td>\n      <td>0.0</td>\n      <td>1</td>\n      <td>1</td>\n      <td>1</td>\n    </tr>\n    <tr>\n      <th>4</th>\n      <td>2</td>\n      <td>23</td>\n      <td>30</td>\n      <td>1</td>\n      <td>9</td>\n      <td>30.0</td>\n      <td>1</td>\n      <td>2</td>\n      <td>0.0</td>\n      <td>0</td>\n      <td>4</td>\n      <td>3</td>\n    </tr>\n  </tbody>\n</table>\n</div>"
                    },
                    "metadata": {}
                }
            ]
        },
        {
            "metadata": {},
            "cell_type": "markdown",
            "source": "### Data Preprocessing"
        },
        {
            "metadata": {},
            "cell_type": "markdown",
            "source": "#### To be able to use sci-kit learn library, we have to convert dataframes into numpy arrays"
        },
        {
            "metadata": {},
            "cell_type": "code",
            "source": "x = df[['region', 'tenure','age', 'marital', 'address', 'income', 'ed', 'employ','retire', 'gender', 'reside']] .values  #.astype(float)\ny = df['custcat'].values #.astype(float)",
            "execution_count": 4,
            "outputs": []
        },
        {
            "metadata": {},
            "cell_type": "markdown",
            "source": "#### It is especially a good practice for kNN algorithms to have the data standardized by giving them zero-mean and unit variance"
        },
        {
            "metadata": {},
            "cell_type": "code",
            "source": "x = preprocessing.StandardScaler().fit(x).transform(x.astype(float))",
            "execution_count": 5,
            "outputs": []
        },
        {
            "metadata": {},
            "cell_type": "markdown",
            "source": "### Splitting our dataset into Train / Test\n"
        },
        {
            "metadata": {},
            "cell_type": "code",
            "source": "xTrain, xTest, yTrain, yTest = train_test_split( x, y, test_size=0.2, random_state=4)\nprint ('Train set:', xTrain.shape,  yTrain.shape)\nprint ('Test set:', xTest.shape,  yTest.shape)",
            "execution_count": 6,
            "outputs": [
                {
                    "output_type": "stream",
                    "text": "Train set: (800, 11) (800,)\nTest set: (200, 11) (200,)\n",
                    "name": "stdout"
                }
            ]
        },
        {
            "metadata": {},
            "cell_type": "markdown",
            "source": "### Classification"
        },
        {
            "metadata": {},
            "cell_type": "markdown",
            "source": "#### We start with an initial guess for k. So, let's start with k=4"
        },
        {
            "metadata": {},
            "cell_type": "code",
            "source": "k = 4\nkNNModel = KNeighborsClassifier(n_neighbors = k).fit(xTrain,yTrain)",
            "execution_count": 7,
            "outputs": []
        },
        {
            "metadata": {},
            "cell_type": "code",
            "source": "yHat = kNNModel.predict(xTest)\nprint(yHat[0:5])\nprint(yTest[0:5])",
            "execution_count": 8,
            "outputs": [
                {
                    "output_type": "stream",
                    "text": "[1 1 3 2 4]\n[4 1 1 2 4]\n",
                    "name": "stdout"
                }
            ]
        },
        {
            "metadata": {},
            "cell_type": "markdown",
            "source": "### Evaluation"
        },
        {
            "metadata": {},
            "cell_type": "code",
            "source": "print(\"Train set Accuracy: \", metrics.accuracy_score(yTrain, kNNModel.predict(xTrain)))\nprint(\"Test set Accuracy: \", metrics.accuracy_score(yTest, yHat))",
            "execution_count": 9,
            "outputs": [
                {
                    "output_type": "stream",
                    "text": "Train set Accuracy:  0.5475\nTest set Accuracy:  0.32\n",
                    "name": "stdout"
                }
            ]
        },
        {
            "metadata": {},
            "cell_type": "markdown",
            "source": "### Now what about the other k values ?"
        },
        {
            "metadata": {},
            "cell_type": "markdown",
            "source": "#### Let's create an array for accuracy, in which we calculate accuracy for k values starting from 1 to 20"
        },
        {
            "metadata": {},
            "cell_type": "code",
            "source": "Ks = 20\nmeanAcc = np.zeros((Ks-1))\nstdAcc = np.zeros((Ks-1))\nconfustionMx = [];\nfor n in range(1,Ks):\n    \n    #Train Model and Predict  \n    neigh = KNeighborsClassifier(n_neighbors = n).fit(xTrain,yTrain)\n    yHat=neigh.predict(xTest)\n    meanAcc[n-1] = metrics.accuracy_score(yTest, yHat)\n\n    \n    stdAcc[n-1]=np.std(yHat==yTest)/np.sqrt(yHat.shape[0])",
            "execution_count": 12,
            "outputs": []
        },
        {
            "metadata": {},
            "cell_type": "code",
            "source": "plt.plot(range(1,Ks),meanAcc,'g')\nplt.fill_between(range(1,Ks),meanAcc - 1 * stdAcc,meanAcc + 1 * stdAcc, alpha=0.10)\nplt.legend(('Accuracy ', '+/- 3xstd'))\nplt.ylabel('Accuracy ')\nplt.xlabel('Number of Nabors (K)')\nplt.tight_layout()\nplt.show()",
            "execution_count": 16,
            "outputs": [
                {
                    "output_type": "display_data",
                    "data": {
                        "text/plain": "<Figure size 432x288 with 1 Axes>",
                        "image/png": "[encoded data removed]"
                    },
                    "metadata": {
                        "needs_background": "light"
                    }
                }
            ]
        },
        {
            "metadata": {},
            "cell_type": "code",
            "source": "print( \"We obtained the best accuracy with k =\", meanAcc.argmax()+1, \"Neighbors.\") ",
            "execution_count": 17,
            "outputs": [
                {
                    "output_type": "stream",
                    "text": "We obtained the best accuracy with k = 16 Neighbors.\n",
                    "name": "stdout"
                }
            ]
        }
    ],
    "metadata": {
        "kernelspec": {
            "name": "python3",
            "display_name": "Python 3.6",
            "language": "python"
        },
        "language_info": {
            "name": "python",
            "version": "3.6.9",
            "mimetype": "text/x-python",
            "codemirror_mode": {
                "name": "ipython",
                "version": 3
            },
            "pygments_lexer": "ipython3",
            "nbconvert_exporter": "python",
            "file_extension": ".py"
        }
    },
    "nbformat": 4,
    "nbformat_minor": 1
}