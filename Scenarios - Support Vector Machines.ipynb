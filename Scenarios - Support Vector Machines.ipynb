{
    "cells": [
        {
            "metadata": {
                "collapsed": true
            },
            "cell_type": "markdown",
            "source": "### First let's import the required libraries"
        },
        {
            "metadata": {},
            "cell_type": "code",
            "source": "import pandas as pd # To be able to handle the data with ease (by employing dataframe structure)\nimport numpy as np # To be able to treat the data as vectors\nfrom sklearn.model_selection import train_test_split # For splitting data into train & test clusters\nfrom sklearn import svm # To be able to model the dataset with Support Vector Machine Modeling\nfrom sklearn.metrics import f1_score # To evaluate the results with f1_score method",
            "execution_count": 10,
            "outputs": []
        },
        {
            "metadata": {},
            "cell_type": "markdown",
            "source": "### ------------------------------------------------------------------------------------------------------------------------------------------------------------------------------------------------------------------"
        },
        {
            "metadata": {},
            "cell_type": "markdown",
            "source": "### In this case study, we're going to decide if a cancer cell is benevolent or maleficent."
        },
        {
            "metadata": {},
            "cell_type": "markdown",
            "source": "### The dataset contains over 200 cancer cell information. Each row consists of various info about cells:"
        },
        {
            "metadata": {},
            "cell_type": "markdown",
            "source": "#### Clump Thickness, Uniformity of Cell Size, Uniformity of Cell Shape, Marginal Adhesion, Single epithelial cell size\n#### Bare Nuclei, Bland Chromatin, Normal Nuclei, Mitoses, Class"
        },
        {
            "metadata": {},
            "cell_type": "markdown",
            "source": "### ------------------------------------------------------------------------------------------------------------------------------------------------------------------------------------------------------------------"
        },
        {
            "metadata": {},
            "cell_type": "markdown",
            "source": "### Let's import our dataset from the data center of University of California, Irvine."
        },
        {
            "metadata": {},
            "cell_type": "code",
            "source": "!wget -O H\u00fccreler.csv https://s3-api.us-geo.objectstorage.softlayer.net/cf-courses-data/CognitiveClass/ML0101ENv3/labs/cell_samples.csv",
            "execution_count": 4,
            "outputs": [
                {
                    "output_type": "stream",
                    "text": "--2020-05-08 05:53:42--  https://s3-api.us-geo.objectstorage.softlayer.net/cf-courses-data/CognitiveClass/ML0101ENv3/labs/cell_samples.csv\nResolving s3-api.us-geo.objectstorage.softlayer.net (s3-api.us-geo.objectstorage.softlayer.net)... 67.228.254.196\nConnecting to s3-api.us-geo.objectstorage.softlayer.net (s3-api.us-geo.objectstorage.softlayer.net)|67.228.254.196|:443... connected.\nHTTP request sent, awaiting response... 200 OK\nLength: 20675 (20K) [text/csv]\nSaving to: \u2018H\u00fccreler.csv\u2019\n\n100%[======================================>] 20,675      --.-K/s   in 0.09s   \n\n2020-05-08 05:53:43 (236 KB/s) - \u2018H\u00fccreler.csv\u2019 saved [20675/20675]\n\n",
                    "name": "stdout"
                }
            ]
        },
        {
            "metadata": {},
            "cell_type": "code",
            "source": "df = pd.read_csv(\"H\u00fccreler.csv\")\ndf.head()",
            "execution_count": 5,
            "outputs": [
                {
                    "output_type": "execute_result",
                    "execution_count": 5,
                    "data": {
                        "text/plain": "        ID  Clump  UnifSize  UnifShape  MargAdh  SingEpiSize BareNuc  \\\n0  1000025      5         1          1        1            2       1   \n1  1002945      5         4          4        5            7      10   \n2  1015425      3         1          1        1            2       2   \n3  1016277      6         8          8        1            3       4   \n4  1017023      4         1          1        3            2       1   \n\n   BlandChrom  NormNucl  Mit  Class  \n0           3         1    1      2  \n1           3         2    1      2  \n2           3         1    1      2  \n3           3         7    1      2  \n4           3         1    1      2  ",
                        "text/html": "<div>\n<style scoped>\n    .dataframe tbody tr th:only-of-type {\n        vertical-align: middle;\n    }\n\n    .dataframe tbody tr th {\n        vertical-align: top;\n    }\n\n    .dataframe thead th {\n        text-align: right;\n    }\n</style>\n<table border=\"1\" class=\"dataframe\">\n  <thead>\n    <tr style=\"text-align: right;\">\n      <th></th>\n      <th>ID</th>\n      <th>Clump</th>\n      <th>UnifSize</th>\n      <th>UnifShape</th>\n      <th>MargAdh</th>\n      <th>SingEpiSize</th>\n      <th>BareNuc</th>\n      <th>BlandChrom</th>\n      <th>NormNucl</th>\n      <th>Mit</th>\n      <th>Class</th>\n    </tr>\n  </thead>\n  <tbody>\n    <tr>\n      <th>0</th>\n      <td>1000025</td>\n      <td>5</td>\n      <td>1</td>\n      <td>1</td>\n      <td>1</td>\n      <td>2</td>\n      <td>1</td>\n      <td>3</td>\n      <td>1</td>\n      <td>1</td>\n      <td>2</td>\n    </tr>\n    <tr>\n      <th>1</th>\n      <td>1002945</td>\n      <td>5</td>\n      <td>4</td>\n      <td>4</td>\n      <td>5</td>\n      <td>7</td>\n      <td>10</td>\n      <td>3</td>\n      <td>2</td>\n      <td>1</td>\n      <td>2</td>\n    </tr>\n    <tr>\n      <th>2</th>\n      <td>1015425</td>\n      <td>3</td>\n      <td>1</td>\n      <td>1</td>\n      <td>1</td>\n      <td>2</td>\n      <td>2</td>\n      <td>3</td>\n      <td>1</td>\n      <td>1</td>\n      <td>2</td>\n    </tr>\n    <tr>\n      <th>3</th>\n      <td>1016277</td>\n      <td>6</td>\n      <td>8</td>\n      <td>8</td>\n      <td>1</td>\n      <td>3</td>\n      <td>4</td>\n      <td>3</td>\n      <td>7</td>\n      <td>1</td>\n      <td>2</td>\n    </tr>\n    <tr>\n      <th>4</th>\n      <td>1017023</td>\n      <td>4</td>\n      <td>1</td>\n      <td>1</td>\n      <td>3</td>\n      <td>2</td>\n      <td>1</td>\n      <td>3</td>\n      <td>1</td>\n      <td>1</td>\n      <td>2</td>\n    </tr>\n  </tbody>\n</table>\n</div>"
                    },
                    "metadata": {}
                }
            ]
        },
        {
            "metadata": {},
            "cell_type": "markdown",
            "source": "### Data Preprocessing"
        },
        {
            "metadata": {},
            "cell_type": "markdown",
            "source": "#### Since Support Vector Machine Modeling method does not support categorical values, we first need to convert the categorical data into numerical data."
        },
        {
            "metadata": {},
            "cell_type": "code",
            "source": "df.dtypes",
            "execution_count": 6,
            "outputs": [
                {
                    "output_type": "execute_result",
                    "execution_count": 6,
                    "data": {
                        "text/plain": "ID              int64\nClump           int64\nUnifSize        int64\nUnifShape       int64\nMargAdh         int64\nSingEpiSize     int64\nBareNuc        object\nBlandChrom      int64\nNormNucl        int64\nMit             int64\nClass           int64\ndtype: object"
                    },
                    "metadata": {}
                }
            ]
        },
        {
            "metadata": {},
            "cell_type": "markdown",
            "source": "#### We can throw out the non-numerical values of \"Bare Nuclei\" column."
        },
        {
            "metadata": {},
            "cell_type": "code",
            "source": "df = df[pd.to_numeric(df['BareNuc'], errors = 'coerce').notnull()]\ndf['BareNuc'] = df['BareNuc'].astype('int')\ndf.dtypes",
            "execution_count": 7,
            "outputs": [
                {
                    "output_type": "execute_result",
                    "execution_count": 7,
                    "data": {
                        "text/plain": "ID             int64\nClump          int64\nUnifSize       int64\nUnifShape      int64\nMargAdh        int64\nSingEpiSize    int64\nBareNuc        int64\nBlandChrom     int64\nNormNucl       int64\nMit            int64\nClass          int64\ndtype: object"
                    },
                    "metadata": {}
                }
            ]
        },
        {
            "metadata": {},
            "cell_type": "code",
            "source": "x = np.asarray(df[['Clump', 'UnifSize', 'UnifShape', 'MargAdh', 'SingEpiSize', 'BareNuc', 'BlandChrom', 'NormNucl', 'Mit']])\ny = np.asarray(df['Class'])",
            "execution_count": 8,
            "outputs": []
        },
        {
            "metadata": {},
            "cell_type": "markdown",
            "source": "### Splitting our dataset into Train / Test "
        },
        {
            "metadata": {},
            "cell_type": "code",
            "source": "# Verisetimizi %80 e\u011fitim ve %20 olmak \u00fczere iki alt k\u00fcmeye ay\u0131ral\u0131m. \nxTrain, xTest, yTrain, yTest = train_test_split( x, y, test_size=0.2, random_state=4)",
            "execution_count": 9,
            "outputs": []
        },
        {
            "metadata": {},
            "cell_type": "markdown",
            "source": "### Modeling"
        },
        {
            "metadata": {},
            "cell_type": "code",
            "source": "model = svm.SVC(kernel='rbf')\nmodel.fit(xTrain, yTrain)",
            "execution_count": 38,
            "outputs": [
                {
                    "output_type": "stream",
                    "text": "/opt/conda/envs/Python36/lib/python3.6/site-packages/sklearn/svm/base.py:196: FutureWarning: The default value of gamma will change from 'auto' to 'scale' in version 0.22 to account better for unscaled features. Set gamma explicitly to 'auto' or 'scale' to avoid this warning.\n  \"avoid this warning.\", FutureWarning)\n",
                    "name": "stderr"
                },
                {
                    "output_type": "execute_result",
                    "execution_count": 38,
                    "data": {
                        "text/plain": "SVC(C=1.0, cache_size=200, class_weight=None, coef0=0.0,\n  decision_function_shape='ovr', degree=3, gamma='auto_deprecated',\n  kernel='rbf', max_iter=-1, probability=False, random_state=None,\n  shrinking=True, tol=0.001, verbose=False)"
                    },
                    "metadata": {}
                }
            ]
        },
        {
            "metadata": {},
            "cell_type": "code",
            "source": "yHat = model.predict(xTest)\nprint(yHat[0:10])\nprint(yTest[0:10])",
            "execution_count": 39,
            "outputs": [
                {
                    "output_type": "stream",
                    "text": "[2 4 2 4 2 2 2 2 4 2]\n[2 4 2 4 2 2 2 2 4 2]\n",
                    "name": "stdout"
                }
            ]
        },
        {
            "metadata": {},
            "cell_type": "markdown",
            "source": "### Model Evaluation"
        },
        {
            "metadata": {},
            "cell_type": "code",
            "source": "f1_score(yTest, yHat, average='weighted') ",
            "execution_count": 40,
            "outputs": [
                {
                    "output_type": "execute_result",
                    "execution_count": 40,
                    "data": {
                        "text/plain": "0.9639038982104676"
                    },
                    "metadata": {}
                }
            ]
        },
        {
            "metadata": {},
            "cell_type": "markdown",
            "source": "#### --- f1 Skorunun 1'e yak\u0131n olmas\u0131 modelin gelecek kanser h\u00fccresi tahminlemesinde olduk\u00e7a ba\u015far\u0131l\u0131 oldu\u011funu g\u00f6steriyor. ---"
        }
    ],
    "metadata": {
        "kernelspec": {
            "name": "python3",
            "display_name": "Python 3.6",
            "language": "python"
        },
        "language_info": {
            "name": "python",
            "version": "3.6.9",
            "mimetype": "text/x-python",
            "codemirror_mode": {
                "name": "ipython",
                "version": 3
            },
            "pygments_lexer": "ipython3",
            "nbconvert_exporter": "python",
            "file_extension": ".py"
        }
    },
    "nbformat": 4,
    "nbformat_minor": 1
}